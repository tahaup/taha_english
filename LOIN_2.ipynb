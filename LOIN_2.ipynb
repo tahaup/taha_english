{
 "cells": [
  {
   "cell_type": "code",
   "execution_count": 1,
   "id": "adbea6b9-dea4-4a8a-a59a-9cb8c6a928fd",
   "metadata": {},
   "outputs": [
    {
     "name": "stdout",
     "output_type": "stream",
     "text": [
      "taha\n"
     ]
    }
   ],
   "source": [
    "print(\"taha\")"
   ]
  },
  {
   "cell_type": "code",
   "execution_count": 2,
   "id": "e4980fc3-0b48-40b1-95b2-70be8464d173",
   "metadata": {},
   "outputs": [],
   "source": [
    "x = 99\n"
   ]
  },
  {
   "cell_type": "code",
   "execution_count": 3,
   "id": "c19cc011-b7b2-4e1b-835f-5bafaf53d4c6",
   "metadata": {},
   "outputs": [],
   "source": [
    "w = 1000"
   ]
  },
  {
   "cell_type": "code",
   "execution_count": 4,
   "id": "60c86a79-602a-4c39-8a2f-886110f1cab5",
   "metadata": {},
   "outputs": [
    {
     "data": {
      "text/plain": [
       "1099"
      ]
     },
     "execution_count": 4,
     "metadata": {},
     "output_type": "execute_result"
    }
   ],
   "source": [
    "x + w "
   ]
  },
  {
   "cell_type": "code",
   "execution_count": 5,
   "id": "20f1c374-fd3e-4a18-8420-90c8b5069129",
   "metadata": {},
   "outputs": [
    {
     "data": {
      "text/plain": [
       "901"
      ]
     },
     "execution_count": 5,
     "metadata": {},
     "output_type": "execute_result"
    }
   ],
   "source": [
    "w - x"
   ]
  },
  {
   "cell_type": "code",
   "execution_count": null,
   "id": "a264b2d8-781d-462a-a3d8-b806fb25c0fb",
   "metadata": {},
   "outputs": [],
   "source": []
  },
  {
   "cell_type": "code",
   "execution_count": 3,
   "id": "43670377-4d6e-464a-934b-086d793db242",
   "metadata": {},
   "outputs": [
    {
     "name": "stdout",
     "output_type": "stream",
     "text": [
      "mohamad and tahamohamad and tahamohamad and tahamohamad and tahamohamad and tahamohamad and tahamohamad and tahamohamad and tahamohamad and tahamohamad and tahamohamad and tahamohamad and tahamohamad and tahamohamad and tahamohamad and tahamohamad and tahamohamad and tahamohamad and tahamohamad and tahamohamad and tahamohamad and tahamohamad and tahamohamad and tahamohamad and tahamohamad and tahamohamad and tahamohamad and tahamohamad and tahamohamad and tahamohamad and tahamohamad and tahamohamad and tahamohamad and tahamohamad and tahamohamad and tahamohamad and tahamohamad and tahamohamad and tahamohamad and tahamohamad and tahamohamad and tahamohamad and tahamohamad and tahamohamad and taha\n"
     ]
    }
   ],
   "source": [
    "print(\"mohamad and taha\"*44)"
   ]
  },
  {
   "cell_type": "code",
   "execution_count": 4,
   "id": "3e1c1352-22c6-40bd-b7c3-25894db14635",
   "metadata": {},
   "outputs": [
    {
     "ename": "NameError",
     "evalue": "name 'mohammad' is not defined",
     "output_type": "error",
     "traceback": [
      "\u001b[1;31m---------------------------------------------------------------------------\u001b[0m",
      "\u001b[1;31mNameError\u001b[0m                                 Traceback (most recent call last)",
      "Cell \u001b[1;32mIn[4], line 1\u001b[0m\n\u001b[1;32m----> 1\u001b[0m o \u001b[38;5;241m=\u001b[39m{\u001b[43mmohammad\u001b[49m}\n",
      "\u001b[1;31mNameError\u001b[0m: name 'mohammad' is not defined"
     ]
    }
   ],
   "source": [
    "o ={mohammad}"
   ]
  },
  {
   "cell_type": "code",
   "execution_count": 6,
   "id": "b7aa4fa3-dd80-4ba4-ad94-9e4809f45cc8",
   "metadata": {},
   "outputs": [],
   "source": [
    "mohammad = 93"
   ]
  },
  {
   "cell_type": "code",
   "execution_count": 7,
   "id": "a5ad0839-126c-40fa-a032-86df994350a7",
   "metadata": {},
   "outputs": [
    {
     "ename": "SyntaxError",
     "evalue": "Missing parentheses in call to 'print'. Did you mean print(need for speed3)? (612143350.py, line 1)",
     "output_type": "error",
     "traceback": [
      "\u001b[1;36m  Cell \u001b[1;32mIn[7], line 1\u001b[1;36m\u001b[0m\n\u001b[1;33m    print need for speed3\u001b[0m\n\u001b[1;37m          ^\u001b[0m\n\u001b[1;31mSyntaxError\u001b[0m\u001b[1;31m:\u001b[0m Missing parentheses in call to 'print'. Did you mean print(need for speed3)?\n"
     ]
    }
   ],
   "source": [
    "print need for speed3"
   ]
  },
  {
   "cell_type": "code",
   "execution_count": 9,
   "id": "945d73a2-0f81-4daf-9891-887f006e8ce0",
   "metadata": {},
   "outputs": [
    {
     "name": "stdout",
     "output_type": "stream",
     "text": [
      "need for speed and bonkheadneed for speed and bonkheadneed for speed and bonkheadneed for speed and bonkheadneed for speed and bonkheadneed for speed and bonkheadneed for speed and bonkheadneed for speed and bonkheadneed for speed and bonkheadneed for speed and bonkheadneed for speed and bonkheadneed for speed and bonkheadneed for speed and bonkheadneed for speed and bonkheadneed for speed and bonkheadneed for speed and bonkheadneed for speed and bonkheadneed for speed and bonkheadneed for speed and bonkheadneed for speed and bonkheadneed for speed and bonkheadneed for speed and bonkheadneed for speed and bonkheadneed for speed and bonkheadneed for speed and bonkheadneed for speed and bonkheadneed for speed and bonkheadneed for speed and bonkheadneed for speed and bonkheadneed for speed and bonkheadneed for speed and bonkheadneed for speed and bonkheadneed for speed and bonkheadneed for speed and bonkheadneed for speed and bonkheadneed for speed and bonkheadneed for speed and bonkheadneed for speed and bonkheadneed for speed and bonkheadneed for speed and bonkheadneed for speed and bonkheadneed for speed and bonkheadneed for speed and bonkheadneed for speed and bonkheadneed for speed and bonkheadneed for speed and bonkheadneed for speed and bonkheadneed for speed and bonkheadneed for speed and bonkheadneed for speed and bonkheadneed for speed and bonkheadneed for speed and bonkheadneed for speed and bonkheadneed for speed and bonkheadneed for speed and bonkheadneed for speed and bonkheadneed for speed and bonkheadneed for speed and bonkheadneed for speed and bonkheadneed for speed and bonkheadneed for speed and bonkheadneed for speed and bonkheadneed for speed and bonkheadneed for speed and bonkheadneed for speed and bonkheadneed for speed and bonkheadneed for speed and bonkheadneed for speed and bonkheadneed for speed and bonkheadneed for speed and bonkheadneed for speed and bonkheadneed for speed and bonkheadneed for speed and bonkheadneed for speed and bonkheadneed for speed and bonkheadneed for speed and bonkheadneed for speed and bonkheadneed for speed and bonkheadneed for speed and bonkheadneed for speed and bonkheadneed for speed and bonkheadneed for speed and bonkheadneed for speed and bonkheadneed for speed and bonkheadneed for speed and bonkheadneed for speed and bonkheadneed for speed and bonkheadneed for speed and bonkheadneed for speed and bonkheadneed for speed and bonkheadneed for speed and bonkheadneed for speed and bonkheadneed for speed and bonkheadneed for speed and bonkheadneed for speed and bonkheadneed for speed and bonkheadneed for speed and bonkheadneed for speed and bonkheadneed for speed and bonkheadneed for speed and bonkheadneed for speed and bonkheadneed for speed and bonkheadneed for speed and bonkheadneed for speed and bonkheadneed for speed and bonkheadneed for speed and bonkheadneed for speed and bonkheadneed for speed and bonkheadneed for speed and bonkheadneed for speed and bonkheadneed for speed and bonkheadneed for speed and bonkheadneed for speed and bonkheadneed for speed and bonkheadneed for speed and bonkheadneed for speed and bonkheadneed for speed and bonkheadneed for speed and bonkheadneed for speed and bonkheadneed for speed and bonkheadneed for speed and bonkheadneed for speed and bonkheadneed for speed and bonkheadneed for speed and bonkheadneed for speed and bonkheadneed for speed and bonkheadneed for speed and bonkheadneed for speed and bonkheadneed for speed and bonkheadneed for speed and bonkheadneed for speed and bonkheadneed for speed and bonkheadneed for speed and bonkheadneed for speed and bonkheadneed for speed and bonkheadneed for speed and bonkheadneed for speed and bonkheadneed for speed and bonkheadneed for speed and bonkheadneed for speed and bonkheadneed for speed and bonkheadneed for speed and bonkheadneed for speed and bonkheadneed for speed and bonkheadneed for speed and bonkheadneed for speed and bonkheadneed for speed and bonkheadneed for speed and bonkheadneed for speed and bonkheadneed for speed and bonkhead\n"
     ]
    }
   ],
   "source": [
    "print(\"need for speed and bonkhead\"*150)"
   ]
  },
  {
   "cell_type": "code",
   "execution_count": 1,
   "id": "fb54387e-8793-4f4c-a703-866c5ddd0eb3",
   "metadata": {},
   "outputs": [],
   "source": [
    "l = 33"
   ]
  },
  {
   "cell_type": "code",
   "execution_count": 2,
   "id": "41015734-c8be-48d3-8ac3-d0f2dace6ace",
   "metadata": {},
   "outputs": [],
   "source": [
    "k = 33"
   ]
  },
  {
   "cell_type": "code",
   "execution_count": 3,
   "id": "98f82901-96c5-4529-874b-eeaed95757f3",
   "metadata": {},
   "outputs": [
    {
     "data": {
      "text/plain": [
       "66"
      ]
     },
     "execution_count": 3,
     "metadata": {},
     "output_type": "execute_result"
    }
   ],
   "source": [
    "l + k"
   ]
  },
  {
   "cell_type": "code",
   "execution_count": null,
   "id": "54196ebd-c1a3-4556-ac79-2ed785b035c2",
   "metadata": {},
   "outputs": [],
   "source": []
  }
 ],
 "metadata": {
  "kernelspec": {
   "display_name": "Python 3 (ipykernel)",
   "language": "python",
   "name": "python3"
  },
  "language_info": {
   "codemirror_mode": {
    "name": "ipython",
    "version": 3
   },
   "file_extension": ".py",
   "mimetype": "text/x-python",
   "name": "python",
   "nbconvert_exporter": "python",
   "pygments_lexer": "ipython3",
   "version": "3.8.10"
  }
 },
 "nbformat": 4,
 "nbformat_minor": 5
}

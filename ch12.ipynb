{
 "cells": [
  {
   "cell_type": "markdown",
   "id": "82973227-5654-4514-ae87-0eee35c4fdfa",
   "metadata": {
    "jp-MarkdownHeadingCollapsed": true
   },
   "source": [
    "### ch program"
   ]
  },
  {
   "cell_type": "code",
   "execution_count": 3,
   "id": "c206daa2-f8b0-4958-bc47-ef856c20a302",
   "metadata": {},
   "outputs": [
    {
     "name": "stdout",
     "output_type": "stream",
     "text": [
      "\f",
      "##############################################\n",
      "############# Speaking Textbook ##############\n",
      "##############################################\n",
      "194: Read page ...\n",
      "1: Whats your name?\n",
      "31: Whats...in English?\n",
      "267: Check your answers.\n",
      "##############################################\n",
      "Asked: 60\n",
      "##############################################\n"
     ]
    }
   ],
   "source": [
    " !python ch.py 4"
   ]
  },
  {
   "cell_type": "code",
   "execution_count": null,
   "id": "71cb3740-6684-4f25-88e0-5cd349940e11",
   "metadata": {},
   "outputs": [],
   "source": [
    "# I cant' remember\n",
    "# 97:name part of yor body. \n",
    "# 77: I have a question?!\n",
    "# 201: Underline the word.\n",
    "# 229: Help each other.\n",
    "# 40: Name some farm animals.\n",
    "# 267: Check your answers."
   ]
  },
  {
   "cell_type": "markdown",
   "id": "90078209-4279-4b1e-9287-fe84ae346937",
   "metadata": {
    "jp-MarkdownHeadingCollapsed": true
   },
   "source": [
    "### exam ch12"
   ]
  },
  {
   "cell_type": "raw",
   "id": "0ec1a1a1-8ca7-477b-b748-23e3238f0e91",
   "metadata": {},
   "source": [
    "### CH12 ###\n",
    "\n",
    "1- Write question for this sentences. (where, what, which, who)\n",
    "    * The briacfest is on the table.\n",
    "    * The shoes are next to the door.\n",
    "    * There are Karen's earrings.\n",
    "    * It is my cellphone.\n",
    "    * She is my close friend Sara.\n",
    "    * He is Mr.Karimi\n",
    "\n",
    "2- Make sentences with these adjectives.\n",
    "    Gorgeus:\n",
    "    Beautiful:\n",
    "    Interesting:\n",
    "    Tolerant:\n",
    "    Fabulous:\n",
    "\n",
    "3- Aswer the question with your information.\n",
    "    * What is your firts name?\n",
    "    * What is your last name?\n",
    "    * How are things?\n",
    "    * How do you do?\n",
    "    * What kind of person are you?\n",
    "\n",
    "4- What is the meaning of sentences?\n",
    "    * I am short of money.\n",
    "    * Don't argue with me.\n",
    "    * Don't blame me, it isn't my fault.\n",
    "    * From the bottom of my heart.\n",
    "    * Congratulation.\n",
    "\n",
    "5- Choose the best.\n",
    "    * I eat a lot of food and I have ________\n",
    "        a) Stomachache   b) Cough   c) Headache   d) cold\n",
    "    * It is rainy outside. Put on your __________\n",
    "        a) Skirt   b) Raincoat   c) Tie   d) Belt\n",
    "    * She has light blue __________\n",
    "        a) Ears   b) cheeks   c) eyes   d) hands\n",
    "\n",
    "6- According to the story book circle the correct words.\n",
    "    a) They make a shelter / house with sticks, stones, and leaves.\n",
    "    b) Anna likes / doesn't like rice. \n",
    "    c) Mum / dad helps Anna and Tome to make a fire.\n",
    "    d) Dad cooks dinner on the camping stove / fire.\n",
    "    e) They have rice and chicken / rice and fish for dinner.\n",
    "    f) Tom and Anna go to bed in their sleeping bags / car.\n",
    "    g) It's wet / dry outside the shelter."
   ]
  },
  {
   "cell_type": "markdown",
   "id": "6f3ce638-5139-4396-a0ea-7bc62484eca9",
   "metadata": {
    "jp-MarkdownHeadingCollapsed": true
   },
   "source": [
    "### my day"
   ]
  },
  {
   "cell_type": "raw",
   "id": "6ddb08b4-f7e6-4b4c-9b9e-c1bba27926ca",
   "metadata": {},
   "source": [
    "\n",
    "school is a special place where I learn new things every day.I have friends, and studay differend subjects together.in the classroom there are desks, chairs and a whitboard where the teacher write.we read books, solve math problems and draw a pictures. In my class room, we have rules to help us learn have fun. \n",
    "The first rule is to listen to the teacher. This helps us stay focused and learn. \n",
    "The second rule is to be kind to each other. and treat everyone with respect. We raise our hands befor speaking.\n",
    "\n",
    "The third rule is to work hard and do our best.\n",
    "After school I usually go home with my friends. We walk together. And sometimes, we talk about our day. When I get home, I have snack. My favorite is a chicken sandwich. Then I do my homework.\n",
    "somtims it's a little tricky but I always try my best.I now that doing home work is importan.once my homework is done .I like to go outside.\n",
    "\n",
    "Every morning, I wake up to the sound of alarm clock raning. I stretch my arms and legs before getting out of my bed. First, I brush my teeth using my toothbrush and toothpaste to keep. then and clean and healthy. then I wash my face with water to wake myself up. Next, I get dressed in my favorite clothes for the day. I make my bed to keep my room tidy. Before leaving my bed room I grab my backpack and check that I have everything I need for achool."
   ]
  }
 ],
 "metadata": {
  "kernelspec": {
   "display_name": "Python 3 (ipykernel)",
   "language": "python",
   "name": "python3"
  },
  "language_info": {
   "codemirror_mode": {
    "name": "ipython",
    "version": 3
   },
   "file_extension": ".py",
   "mimetype": "text/x-python",
   "name": "python",
   "nbconvert_exporter": "python",
   "pygments_lexer": "ipython3",
   "version": "3.8.10"
  }
 },
 "nbformat": 4,
 "nbformat_minor": 5
}

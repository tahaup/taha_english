{
 "cells": [
  {
   "cell_type": "code",
   "execution_count": 1,
   "id": "0b217b60-d923-46cd-8ea5-fd6282a556b3",
   "metadata": {},
   "outputs": [],
   "source": [
    "import qrcode\n",
    "\n",
    "def generate_qr_code(url, filename):\n",
    "    # Create a QR code instance\n",
    "    qr = qrcode.QRCode(\n",
    "        version=1,\n",
    "        error_correction=qrcode.constants.ERROR_CORRECT_L,\n",
    "        box_size=10,\n",
    "        border=4,\n",
    "    )\n",
    "\n",
    "    # Add the URL to the QR code\n",
    "    qr.add_data(url)\n",
    "\n",
    "    # Make the QR code\n",
    "    qr.make(fit=True)\n",
    "\n",
    "    # Create an image from the QR code instance\n",
    "    img = qr.make_image(fill_color=\"black\", back_color=\"white\")\n",
    "\n",
    "    # Save the image to a file\n",
    "    img.save(filename)\n",
    "\n",
    "# Example usage:\n",
    "url = \"http://192.168.43.185:8888/lab?token=bbcd78fd82f7c97a9ef417d161fa9338dbe9b2164adc6c60\"\n",
    "filename = \"qrcode.png\"\n",
    "generate_qr_code(url, filename)"
   ]
  },
  {
   "cell_type": "code",
   "execution_count": null,
   "id": "7aeb653c-64d9-4876-91d2-0fbd46a7c220",
   "metadata": {},
   "outputs": [],
   "source": []
  }
 ],
 "metadata": {
  "kernelspec": {
   "display_name": "Python 3 (ipykernel)",
   "language": "python",
   "name": "python3"
  },
  "language_info": {
   "codemirror_mode": {
    "name": "ipython",
    "version": 3
   },
   "file_extension": ".py",
   "mimetype": "text/x-python",
   "name": "python",
   "nbconvert_exporter": "python",
   "pygments_lexer": "ipython3",
   "version": "3.8.10"
  }
 },
 "nbformat": 4,
 "nbformat_minor": 5
}

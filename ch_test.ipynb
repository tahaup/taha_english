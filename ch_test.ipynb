{
 "cells": [
  {
   "cell_type": "code",
   "execution_count": 1,
   "id": "da90ad43-1357-4135-8464-727d8875eb92",
   "metadata": {},
   "outputs": [],
   "source": [
    "import numpy as np\n",
    "import json\n",
    "import pickle"
   ]
  },
  {
   "cell_type": "code",
   "execution_count": 163,
   "id": "dbd79954-641b-4c8c-96f3-e776147bb71e",
   "metadata": {},
   "outputs": [
    {
     "name": "stdout",
     "output_type": "stream",
     "text": [
      "##############################################\n",
      "##############################################\n",
      "200: Match the word.\n",
      "26: Repeat after me!\n",
      "232: pronounce the word.\n",
      "173: Name some jobs.\n",
      "36: Count from 1 - 10.\n",
      "22: May I comw in?!\n",
      "260: I don't understant it.\n",
      "117: Are you thirsty?\n",
      "114: What's your feeling?\n",
      "186: What color are your pants?\n",
      "52: Touch your ears.\n",
      "3: Count from 1 - 5\n",
      "197: Answer the quastion.\n",
      "245: What's the opposite of happy?\n",
      "72: How many books?\n",
      "236: Work in a group.\n",
      "132: Can I boroow a pen/eraser/paper.\n",
      "40: Name some farm animals.\n",
      "230: work together.\n",
      "48: Put away your books.\n",
      "201: Underline the word.\n",
      "198: Circle the correct answer.\n",
      "263: Turn on / off the lights.\n",
      "191: May I close the door / window?\n",
      "240: How many boys are there in your class?\n",
      "221: How many pillows?\n",
      "111: Your wellcome!\n",
      "138: I have to miss the next session.\n",
      "63: Open your books / notebooks!\n",
      "219: What is there in your bedroom?\n",
      "195: Study page ...\n",
      "84: Spell your name!\n",
      "16: Go to the board!\n",
      "128: Don't break the plants.\n",
      "158: Take it easy!\n",
      "107: Here's your notebook!\n",
      "118: Are you hungry?\n",
      "##############################################\n",
      "Asked: 277\n",
      "##############################################\n"
     ]
    }
   ],
   "source": [
    "ask_size = 40\n",
    "# It will be True when we don't have more than ask_size\n",
    "reset_before_selected_ch = False\n",
    "\n",
    "# load dictionary\n",
    "with open('ch_1_11.json', 'r') as f:\n",
    "    ch = json.load(f)\n",
    "# if you have aditional key, use following command to delete it.\n",
    "# ch.pop(\"884\", None)\n",
    "    \n",
    "# load selected ch\n",
    "with open('sample.pkl', 'rb') as f:\n",
    "    data = pickle.load(f)\n",
    "\n",
    "# justify all of items to int32\n",
    "xx = data['before_selected_ch']\n",
    "before_selected_ch = xx.astype(np.int32)\n",
    "\n",
    "# generate numbe from 1 to 277\n",
    "whole = np.arange(1, len(ch)+1)\n",
    "\n",
    "# remove before_selected_ch from whole\n",
    "ready_for_select = np.setdiff1d(np.ravel(whole), np.ravel(before_selected_ch))\n",
    "\n",
    "# check ask_size less than ready_for_select\n",
    "if (ask_size >= len(ready_for_select)):\n",
    "    ask_size = len(ready_for_select)\n",
    "    reset_before_selected_ch = True\n",
    "    \n",
    "# select some ch\n",
    "now_selected_ch = np.random.choice(ready_for_select, size=ask_size, replace=False)\n",
    "\n",
    "# whole_selected_ch = before_selected_ch + now_selected_ch\n",
    "whole_selected_ch = np.concatenate([before_selected_ch, now_selected_ch], dtype=np.int32)\n",
    "\n",
    "# set whole_selected_ch to dictionary and save it\n",
    "if reset_before_selected_ch == True:\n",
    "    empty_array = np.array([], dtype=np.int32)\n",
    "    x = {\"before_selected_ch\": empty_array}\n",
    "else:\n",
    "    x = {\"before_selected_ch\": whole_selected_ch}\n",
    "with open('sample.pkl', 'wb') as f:\n",
    "    pickle.dump(obj=x, file=f)\n",
    "\n",
    "# ask ch\n",
    "print(\"##############################################\")\n",
    "print(\"##############################################\")\n",
    "for i in now_selected_ch:\n",
    "    print(str(i) + \": \" + ch[str(i)])\n",
    "print(\"##############################################\")\n",
    "print(\"Asked: \" + str(len(whole_selected_ch)))\n",
    "print(\"##############################################\")"
   ]
  },
  {
   "cell_type": "code",
   "execution_count": 150,
   "id": "f1bc3a27-531f-453c-bcf4-adfede4260bf",
   "metadata": {},
   "outputs": [],
   "source": [
    "# ch.pop(\"884\", None)"
   ]
  },
  {
   "cell_type": "code",
   "execution_count": null,
   "id": "06533528-3be5-4573-bad2-0d28f4d65a78",
   "metadata": {},
   "outputs": [],
   "source": []
  }
 ],
 "metadata": {
  "kernelspec": {
   "display_name": "Python 3 (ipykernel)",
   "language": "python",
   "name": "python3"
  },
  "language_info": {
   "codemirror_mode": {
    "name": "ipython",
    "version": 3
   },
   "file_extension": ".py",
   "mimetype": "text/x-python",
   "name": "python",
   "nbconvert_exporter": "python",
   "pygments_lexer": "ipython3",
   "version": "3.8.10"
  }
 },
 "nbformat": 4,
 "nbformat_minor": 5
}

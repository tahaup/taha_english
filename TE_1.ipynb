{
 "cells": [
  {
   "cell_type": "markdown",
   "id": "dad1f165-df63-4c52-b39d-77fbcc8d8306",
   "metadata": {
    "jp-MarkdownHeadingCollapsed": true
   },
   "source": [
    "# recap"
   ]
  },
  {
   "cell_type": "code",
   "execution_count": 1,
   "id": "c4447a0e-0346-41cb-b96f-c15e98dad577",
   "metadata": {},
   "outputs": [
    {
     "name": "stdout",
     "output_type": "stream",
     "text": [
      "\f",
      "##############################################\n",
      "############# Speaking Textbook ##############\n",
      "##############################################\n",
      "161: We are on page ...\n",
      "272: Underline the word.\n",
      "##############################################\n",
      "Asked: 66\n",
      "##############################################\n"
     ]
    }
   ],
   "source": [
    "!python ch.py 2"
   ]
  },
  {
   "cell_type": "markdown",
   "id": "81f11699-1c2d-4e97-b05f-a4e60d6db31c",
   "metadata": {
    "jp-MarkdownHeadingCollapsed": true
   },
   "source": [
    "# grammer: <i style=\"color: red\">...ing</i>"
   ]
  },
  {
   "cell_type": "markdown",
   "id": "be36bf05-f789-4a1e-9614-ea2839198c1b",
   "metadata": {
    "jp-MarkdownHeadingCollapsed": true
   },
   "source": [
    "drink --> drink<i style=\"color: red\">ing</i><br />\n",
    "fall ---> fall<i style=\"color: red\">ing</i><br />\n",
    "run ----> runn<i style=\"color: red\">ing</i><br />\n",
    "get ----> gett<i style=\"color: red\">ing</i><br />"
   ]
  },
  {
   "cell_type": "markdown",
   "id": "aecac0a9-c61c-48a6-b19e-f60eed58cf02",
   "metadata": {},
   "source": [
    "# Grammer: y --> s, ies"
   ]
  },
  {
   "cell_type": "raw",
   "id": "a1702b1d-4fee-4bf3-8f81-998f96be7100",
   "metadata": {},
   "source": [
    "Bunny ---> Bunies\n",
    "Lady  ---> ladies\n",
    "key   ---> keys\n",
    "Alley ---> Alleys"
   ]
  },
  {
   "cell_type": "code",
   "execution_count": null,
   "id": "3bc251a0-ab26-4b4e-a72d-e4daf33443f8",
   "metadata": {},
   "outputs": [],
   "source": []
  }
 ],
 "metadata": {
  "kernelspec": {
   "display_name": "Python 3 (ipykernel)",
   "language": "python",
   "name": "python3"
  },
  "language_info": {
   "codemirror_mode": {
    "name": "ipython",
    "version": 3
   },
   "file_extension": ".py",
   "mimetype": "text/x-python",
   "name": "python",
   "nbconvert_exporter": "python",
   "pygments_lexer": "ipython3",
   "version": "3.8.10"
  }
 },
 "nbformat": 4,
 "nbformat_minor": 5
}
